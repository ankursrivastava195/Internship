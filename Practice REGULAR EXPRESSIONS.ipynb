{
 "cells": [
  {
   "cell_type": "code",
   "execution_count": 1,
   "id": "475c4e20",
   "metadata": {},
   "outputs": [],
   "source": [
    "import re"
   ]
  },
  {
   "cell_type": "code",
   "execution_count": 2,
   "id": "18085c79",
   "metadata": {},
   "outputs": [],
   "source": [
    "# Ans 1 "
   ]
  },
  {
   "cell_type": "code",
   "execution_count": 3,
   "id": "f7e4bca0",
   "metadata": {},
   "outputs": [],
   "source": [
    "pattern = \"[0-9a-zA-Z]\""
   ]
  },
  {
   "cell_type": "code",
   "execution_count": 4,
   "id": "44e1dda4",
   "metadata": {},
   "outputs": [
    {
     "name": "stdout",
     "output_type": "stream",
     "text": [
      "Yes\n"
     ]
    }
   ],
   "source": [
    "\n",
    "matches1=re.match(pattern, 'abcABC1234')\n",
    "\n",
    "if(matches1):\n",
    "    print(\"Yes\")\n",
    "else:\n",
    "    print(\"No\")"
   ]
  },
  {
   "cell_type": "code",
   "execution_count": 122,
   "id": "51578594",
   "metadata": {},
   "outputs": [
    {
     "name": "stdout",
     "output_type": "stream",
     "text": [
      "not matched\n"
     ]
    }
   ],
   "source": [
    "#Ans 2\n",
    "\n",
    "pattern11 = '^a(b*)$'\n",
    "matches11 = re.match(pattern11, 'abc')\n",
    "if(matches11):\n",
    "    print(\"matched\")\n",
    "else:\n",
    "    print(\"not matched\")"
   ]
  },
  {
   "cell_type": "code",
   "execution_count": 5,
   "id": "df91e708",
   "metadata": {},
   "outputs": [],
   "source": [
    "#Ans3 "
   ]
  },
  {
   "cell_type": "code",
   "execution_count": 6,
   "id": "8dc41cfd",
   "metadata": {},
   "outputs": [],
   "source": [
    "pattern2 = 'a(b+)$'"
   ]
  },
  {
   "cell_type": "code",
   "execution_count": 7,
   "id": "d7f4e629",
   "metadata": {},
   "outputs": [
    {
     "name": "stdout",
     "output_type": "stream",
     "text": [
      "Yes\n"
     ]
    }
   ],
   "source": [
    "matches2 = re.match(pattern2,'abbbbb')\n",
    "\n",
    "if(matches2):\n",
    "    print('Yes')\n",
    "else:\n",
    "    print('No')"
   ]
  },
  {
   "cell_type": "code",
   "execution_count": 8,
   "id": "eea75c01",
   "metadata": {},
   "outputs": [],
   "source": [
    "#4"
   ]
  },
  {
   "cell_type": "code",
   "execution_count": 9,
   "id": "29480e8f",
   "metadata": {},
   "outputs": [],
   "source": [
    "pattern3 = 'a(b?)$'"
   ]
  },
  {
   "cell_type": "code",
   "execution_count": 10,
   "id": "7de459ef",
   "metadata": {},
   "outputs": [
    {
     "name": "stdout",
     "output_type": "stream",
     "text": [
      "No match\n"
     ]
    }
   ],
   "source": [
    "matches3 = re.match(pattern3,'abc')\n",
    "\n",
    "if(matches3):\n",
    "    print('Yes matched')\n",
    "    \n",
    "else:\n",
    "    print('No match')"
   ]
  },
  {
   "cell_type": "code",
   "execution_count": 11,
   "id": "5ced5b48",
   "metadata": {},
   "outputs": [],
   "source": [
    "#5"
   ]
  },
  {
   "cell_type": "code",
   "execution_count": 12,
   "id": "a78ddf3a",
   "metadata": {},
   "outputs": [],
   "source": [
    "pattern5 = '^a(b{3})$'"
   ]
  },
  {
   "cell_type": "code",
   "execution_count": 13,
   "id": "84c49601",
   "metadata": {},
   "outputs": [
    {
     "name": "stdout",
     "output_type": "stream",
     "text": [
      "yes\n"
     ]
    }
   ],
   "source": [
    "matches5 = re.match(pattern5, 'abbb')\n",
    "\n",
    "if(matches5):\n",
    "    print('yes')\n",
    "else:\n",
    "    print('no')"
   ]
  },
  {
   "cell_type": "code",
   "execution_count": 14,
   "id": "5912a975",
   "metadata": {},
   "outputs": [],
   "source": [
    "#6 Upper case Pattern"
   ]
  },
  {
   "cell_type": "code",
   "execution_count": 15,
   "id": "f399964f",
   "metadata": {},
   "outputs": [],
   "source": [
    "pattern6= '[A-Z][^A-Z]*'\n"
   ]
  },
  {
   "cell_type": "code",
   "execution_count": 16,
   "id": "7a903e01",
   "metadata": {},
   "outputs": [
    {
     "name": "stdout",
     "output_type": "stream",
     "text": [
      "['Importance', 'Of', 'Irregular', 'Expressions', 'In', 'Python']\n"
     ]
    }
   ],
   "source": [
    "split = re.findall(pattern6, 'ImportanceOfIrregularExpressionsInPython')\n",
    "print (split)"
   ]
  },
  {
   "cell_type": "code",
   "execution_count": 17,
   "id": "ba3f2b1b",
   "metadata": {},
   "outputs": [],
   "source": [
    "#7"
   ]
  },
  {
   "cell_type": "code",
   "execution_count": 18,
   "id": "e0fdf6c8",
   "metadata": {},
   "outputs": [],
   "source": [
    "pattern7 = 'a(b{2,3})$'"
   ]
  },
  {
   "cell_type": "code",
   "execution_count": 19,
   "id": "ee257f53",
   "metadata": {},
   "outputs": [
    {
     "name": "stdout",
     "output_type": "stream",
     "text": [
      "matched\n"
     ]
    }
   ],
   "source": [
    "matches7 = re.match(pattern7, 'abbb')\n",
    "if (matches7):\n",
    "    print('matched')\n",
    "else:\n",
    "    print('not matched')"
   ]
  },
  {
   "cell_type": "code",
   "execution_count": 20,
   "id": "c009a9be",
   "metadata": {},
   "outputs": [],
   "source": [
    "#8"
   ]
  },
  {
   "cell_type": "code",
   "execution_count": 21,
   "id": "70b009dd",
   "metadata": {},
   "outputs": [],
   "source": [
    "pattern8 = '^[a-z]+_[a-z]+$'"
   ]
  },
  {
   "cell_type": "code",
   "execution_count": 22,
   "id": "f4c80312",
   "metadata": {},
   "outputs": [
    {
     "name": "stdout",
     "output_type": "stream",
     "text": [
      "yes\n"
     ]
    }
   ],
   "source": [
    "matches8 = re.search(pattern8, 'nbhg_cf')\n",
    "if (matches8):\n",
    "    print('yes')\n",
    "else:\n",
    "    print('No')"
   ]
  },
  {
   "cell_type": "code",
   "execution_count": 23,
   "id": "43eaa576",
   "metadata": {},
   "outputs": [],
   "source": [
    "#9"
   ]
  },
  {
   "cell_type": "code",
   "execution_count": 24,
   "id": "95252c96",
   "metadata": {},
   "outputs": [],
   "source": [
    "pattern9 = 'a.*?(b)$'"
   ]
  },
  {
   "cell_type": "code",
   "execution_count": 25,
   "id": "5bfdb69d",
   "metadata": {},
   "outputs": [
    {
     "name": "stdout",
     "output_type": "stream",
     "text": [
      "match\n"
     ]
    }
   ],
   "source": [
    "matches9 = re.search(pattern9, 'asdfgb')\n",
    "\n",
    "if(matches9):\n",
    "    print('match')\n",
    "else:\n",
    "    print('not matched')"
   ]
  },
  {
   "cell_type": "code",
   "execution_count": 26,
   "id": "1cd986a1",
   "metadata": {},
   "outputs": [],
   "source": [
    "#9"
   ]
  },
  {
   "cell_type": "code",
   "execution_count": 27,
   "id": "96376c88",
   "metadata": {},
   "outputs": [],
   "source": [
    "def text_match(text):\n",
    "    pattern11= 'a.*?b$'\n",
    "    \n",
    "    if re.search(pattern11, text):\n",
    "        return ('found m')\n",
    "    else:\n",
    "        return ('not found')"
   ]
  },
  {
   "cell_type": "code",
   "execution_count": 28,
   "id": "f8a501be",
   "metadata": {},
   "outputs": [
    {
     "name": "stdout",
     "output_type": "stream",
     "text": [
      "not found\n"
     ]
    }
   ],
   "source": [
    "print(text_match(\"aaanjns\"))"
   ]
  },
  {
   "cell_type": "code",
   "execution_count": 29,
   "id": "ed3b5c76",
   "metadata": {},
   "outputs": [
    {
     "name": "stdout",
     "output_type": "stream",
     "text": [
      "found m\n"
     ]
    }
   ],
   "source": [
    "print(text_match('asjkjjb'))"
   ]
  },
  {
   "cell_type": "code",
   "execution_count": 30,
   "id": "d16dae2c",
   "metadata": {},
   "outputs": [],
   "source": [
    "#10"
   ]
  },
  {
   "cell_type": "code",
   "execution_count": 31,
   "id": "e598be4a",
   "metadata": {},
   "outputs": [],
   "source": [
    "patterns10 = '^test+'"
   ]
  },
  {
   "cell_type": "code",
   "execution_count": 32,
   "id": "63ada512",
   "metadata": {},
   "outputs": [
    {
     "name": "stdout",
     "output_type": "stream",
     "text": [
      "Found\n"
     ]
    }
   ],
   "source": [
    "matches10 = re.match(patterns10, 'test word ')\n",
    "\n",
    "if (matches10):\n",
    "    print('Found')\n",
    "else:\n",
    "    print('Not found')"
   ]
  },
  {
   "cell_type": "code",
   "execution_count": 33,
   "id": "8025acda",
   "metadata": {},
   "outputs": [],
   "source": [
    "#11"
   ]
  },
  {
   "cell_type": "code",
   "execution_count": 34,
   "id": "882db25c",
   "metadata": {},
   "outputs": [],
   "source": [
    "pattern11 = '^[A-Za-z0-9_]*$'"
   ]
  },
  {
   "cell_type": "code",
   "execution_count": 35,
   "id": "8d3c32f2",
   "metadata": {},
   "outputs": [
    {
     "name": "stdout",
     "output_type": "stream",
     "text": [
      "matched\n"
     ]
    }
   ],
   "source": [
    "matches = re.match(pattern11, 'abc_123_ABC')\n",
    "\n",
    "if(matches):\n",
    "    \n",
    "   print(\"matched\") \n",
    "else:\n",
    "    \n",
    "   print(\"not matched\")                \n",
    "            "
   ]
  },
  {
   "cell_type": "code",
   "execution_count": 36,
   "id": "a05c16ca",
   "metadata": {},
   "outputs": [],
   "source": [
    "#12"
   ]
  },
  {
   "cell_type": "code",
   "execution_count": 37,
   "id": "5ba0556d",
   "metadata": {},
   "outputs": [],
   "source": [
    "pattern12 = '^9+'"
   ]
  },
  {
   "cell_type": "code",
   "execution_count": 38,
   "id": "c18b52ec",
   "metadata": {},
   "outputs": [
    {
     "name": "stdout",
     "output_type": "stream",
     "text": [
      "not matched\n"
     ]
    }
   ],
   "source": [
    "matches12 = re.match(pattern12, '0Abc')\n",
    "\n",
    "if(matches12):\n",
    "    \n",
    "   print(\"matched\") \n",
    "else:\n",
    "    \n",
    "   print(\"not matched\")  "
   ]
  },
  {
   "cell_type": "code",
   "execution_count": 39,
   "id": "78ff3bf5",
   "metadata": {},
   "outputs": [],
   "source": [
    "#13"
   ]
  },
  {
   "cell_type": "code",
   "execution_count": 40,
   "id": "0993c3c6",
   "metadata": {},
   "outputs": [
    {
     "name": "stdout",
     "output_type": "stream",
     "text": [
      "216.8.4.196\n"
     ]
    }
   ],
   "source": [
    "ip_address = \"216.08.004.196\"\n",
    "string = re.sub('\\.[0]*', '.', ip_address)\n",
    "print (string)"
   ]
  },
  {
   "cell_type": "code",
   "execution_count": null,
   "id": "09567888",
   "metadata": {},
   "outputs": [],
   "source": [
    "#ans-14"
   ]
  },
  {
   "cell_type": "code",
   "execution_count": 116,
   "id": "0ff3eff1",
   "metadata": {},
   "outputs": [],
   "source": [
    "#pattern14 = \"((\\b\\d{1,2}\\D{0,3})?\\b(?:Jan(?:uary)?|Feb(?:ruary)?|Mar(?:ch)?|Apr(?:il)?|May|Jun(?:e)?|Jul(?:y)?|Aug(?:ust)?|Sep(?:tember)?|Oct(?:ober)?|(Nov|Dec)(?:ember)?)\\D?)(\\d{1,2}(st|nd|rd|th)?)?((\\s*[,.\\-\\/]\\s*)\\D?)?\\s*((19[0-9]\\d|20\\d{2})|\\d{2})*\"\n",
    "pattern14 = r\"([a-zA-Z]+) (\\d+(st|nd|rd|th) ((19[0-9]\\d|20\\d{2})|\\d{2})*)\""
   ]
  },
  {
   "cell_type": "code",
   "execution_count": 120,
   "id": "6b3750e7",
   "metadata": {},
   "outputs": [
    {
     "name": "stdout",
     "output_type": "stream",
     "text": [
      "August 15th 1947\n"
     ]
    }
   ],
   "source": [
    " text=\"On August 15th 1947 that India was declared independent from British colonialism, and the reins of control were handed over to the leaders of the Country.\"\n",
    "match14 = re.search(pattern14, text)\n",
    "print (match14.group(0))\n"
   ]
  },
  {
   "cell_type": "code",
   "execution_count": 43,
   "id": "6d3db29c",
   "metadata": {},
   "outputs": [
    {
     "name": "stdout",
     "output_type": "stream",
     "text": [
      "fox Matched\n",
      "dog Matched\n",
      "horse Not Matched\n"
     ]
    }
   ],
   "source": [
    "#ans-15\n",
    "pattern15 = ['fox', 'dog', 'horse']\n",
    "text = 'The quick brown fox jumps over the lazy dog.'\n",
    "for pattern in pattern15:\n",
    "    if re.search(pattern,  text):\n",
    "        print(pattern + ' Matched')\n",
    "    else:\n",
    "        print(pattern + ' Not Matched')"
   ]
  },
  {
   "cell_type": "code",
   "execution_count": 44,
   "id": "ed91d3c8",
   "metadata": {},
   "outputs": [],
   "source": [
    "#ans 16\n",
    "\n"
   ]
  },
  {
   "cell_type": "code",
   "execution_count": 45,
   "id": "e740f03b",
   "metadata": {},
   "outputs": [
    {
     "name": "stdout",
     "output_type": "stream",
     "text": [
      "fox starts at 16 ends at 19\n"
     ]
    }
   ],
   "source": [
    "pattern15 = 'fox'\n",
    "text = 'The quick brown fox jumps over the lazy dog.'\n",
    "match = re.search(pattern15,  text)\n",
    "print(pattern15 + ' starts at ' + str(match.start()) + ' ends at ' + str(match.end()) )\n",
    "    "
   ]
  },
  {
   "cell_type": "code",
   "execution_count": 46,
   "id": "365075b2",
   "metadata": {},
   "outputs": [],
   "source": [
    "#Ans 17"
   ]
  },
  {
   "cell_type": "code",
   "execution_count": 47,
   "id": "667c5142",
   "metadata": {},
   "outputs": [
    {
     "name": "stdout",
     "output_type": "stream",
     "text": [
      "yes\n"
     ]
    }
   ],
   "source": [
    "string1=\"Python exercises,PHP exercises,C# exercises \"\n",
    "\n",
    "if 'exercises' in string1:\n",
    "    print('yes')\n",
    "else:\n",
    "    print('No')"
   ]
  },
  {
   "cell_type": "code",
   "execution_count": 48,
   "id": "0d8b34f5",
   "metadata": {},
   "outputs": [],
   "source": [
    "# Ans 18"
   ]
  },
  {
   "cell_type": "code",
   "execution_count": 49,
   "id": "2ae19640",
   "metadata": {},
   "outputs": [
    {
     "name": "stdout",
     "output_type": "stream",
     "text": [
      "find \"exercises\" at 7:16\n",
      "find \"exercises\" at 22:31\n",
      "find \"exercises\" at 36:45\n"
     ]
    }
   ],
   "source": [
    "text = 'Python exercises, PHP exercises, C# exercises'\n",
    "pattern18 = 'exercises'\n",
    "\n",
    "for match in re.finditer(pattern18, text):\n",
    "    \n",
    "    a = match.start()\n",
    "    b = match.end()\n",
    "    \n",
    "    print('find \"%s\" at %d:%d' % (text[a:b], a, b))"
   ]
  },
  {
   "cell_type": "code",
   "execution_count": 50,
   "id": "97046685",
   "metadata": {},
   "outputs": [
    {
     "name": "stdout",
     "output_type": "stream",
     "text": [
      "02-01-2026\n"
     ]
    }
   ],
   "source": [
    "#Ans-19\n",
    "dt = \"2026-01-02\"\n",
    "convertedDt = re.sub(r'(\\d{4})-(\\d{1,2})-(\\d{1,2})', '\\\\3-\\\\2-\\\\1', dt)\n",
    "print( convertedDt )"
   ]
  },
  {
   "cell_type": "code",
   "execution_count": 51,
   "id": "727ae220",
   "metadata": {},
   "outputs": [
    {
     "name": "stdout",
     "output_type": "stream",
     "text": [
      "['an', 'elephant']\n"
     ]
    }
   ],
   "source": [
    "#Ans-20\n",
    "text = \"an elephant is coming\"\n",
    "list = re.findall(\"[ae]\\w+\", text)\n",
    "print(list)"
   ]
  },
  {
   "cell_type": "code",
   "execution_count": 52,
   "id": "8f0e9d65",
   "metadata": {},
   "outputs": [
    {
     "name": "stdout",
     "output_type": "stream",
     "text": [
      "28\n",
      "Starts at: 12\n",
      "6\n",
      "Starts at: 24\n"
     ]
    }
   ],
   "source": [
    "#Ans-21\n",
    "text = \"The man has 28 cows amd 6 rabbits\"\n",
    "for st in re.finditer(\"\\d+\", text):\n",
    "    print(st.group(0))\n",
    "    print(\"Starts at:\", st.start())"
   ]
  },
  {
   "cell_type": "code",
   "execution_count": 58,
   "id": "56d668ae",
   "metadata": {},
   "outputs": [
    {
     "data": {
      "text/plain": [
       "28"
      ]
     },
     "execution_count": 58,
     "metadata": {},
     "output_type": "execute_result"
    }
   ],
   "source": [
    "#Ans-22\n",
    "text = \"The man has 28 cows amd 6 rabbits\"\n",
    "numberList = re.findall(\"\\d+\", text)\n",
    "numberList = map(int, numberList)\n",
    "max(numberList)"
   ]
  },
  {
   "cell_type": "code",
   "execution_count": 59,
   "id": "ea99e842",
   "metadata": {},
   "outputs": [
    {
     "data": {
      "text/plain": [
       "'My Name Is Ankur'"
      ]
     },
     "execution_count": 59,
     "metadata": {},
     "output_type": "execute_result"
    }
   ],
   "source": [
    "#Ans-23\n",
    "text = \"MyNameIsAnkur\"\n",
    "re.sub(r\"(\\w)([A-Z])\", r\"\\1 \\2\", text)"
   ]
  },
  {
   "cell_type": "code",
   "execution_count": 65,
   "id": "69438705",
   "metadata": {},
   "outputs": [
    {
     "name": "stdout",
     "output_type": "stream",
     "text": [
      "matched\n"
     ]
    }
   ],
   "source": [
    "#Ans-24\n",
    "text = \"Ankur\"\n",
    "patterns = '[A-Z]+[a-z]+$'\n",
    "if re.search(patterns, text):\n",
    "    print ('matched')\n",
    "else:\n",
    "    print ('not matched')"
   ]
  },
  {
   "cell_type": "code",
   "execution_count": 67,
   "id": "c1632922",
   "metadata": {},
   "outputs": [
    {
     "data": {
      "text/plain": [
       "'My name is Ankur'"
      ]
     },
     "execution_count": 67,
     "metadata": {},
     "output_type": "execute_result"
    }
   ],
   "source": [
    "#Ans-25\n",
    "def distinctlist(text):\n",
    "    l = text.split()\n",
    "    list1 = []\n",
    "    for x in l:\n",
    "        if x not in list1:\n",
    "            list1.append(x)\n",
    "    return ' '.join(list1)\n",
    "\n",
    "distinctlist(\"My name name is Ankur Ankur\")"
   ]
  },
  {
   "cell_type": "code",
   "execution_count": 70,
   "id": "7b41fc95",
   "metadata": {},
   "outputs": [
    {
     "name": "stdout",
     "output_type": "stream",
     "text": [
      "Yes\n"
     ]
    }
   ],
   "source": [
    "#Ans-26\n",
    "pattern = '^[a-zA-Z0-9]*$'\n",
    "matches=re.match(pattern, 'Ankur1234')\n",
    "\n",
    "if(matches):\n",
    "    print(\"Yes\")\n",
    "else:\n",
    "    print(\"No\")\n"
   ]
  },
  {
   "cell_type": "code",
   "execution_count": 74,
   "id": "4a876693",
   "metadata": {},
   "outputs": [
    {
     "data": {
      "text/plain": [
       "['#Doltiwal', '#xyzabc', '#Demonetization']"
      ]
     },
     "execution_count": 74,
     "metadata": {},
     "output_type": "execute_result"
    }
   ],
   "source": [
    "#Ans-27\n",
    "text= \"RT @kapil_kausik: #Doltiwal I mean #xyzabc is 'hurt' by #Demonetization as the same has rendered USELESS <ed><U+00A0><U+00BD><ed><U+00B1><U+0089> 'acquired funds' No wo\"\n",
    "pattern27 = r'#\\S+'\n",
    "re. findall(pattern27, text)"
   ]
  },
  {
   "cell_type": "code",
   "execution_count": 89,
   "id": "1dcd2727",
   "metadata": {},
   "outputs": [
    {
     "data": {
      "text/plain": [
       "'@Jags123456 Bharat band on 28??<ed><ed>Those who  are protesting #demonetization  are all different party leaders'"
      ]
     },
     "execution_count": 89,
     "metadata": {},
     "output_type": "execute_result"
    }
   ],
   "source": [
    "#Ans-28\n",
    "text = \"@Jags123456 Bharat band on 28??<ed><U+00A0><U+00BD><ed><U+00B8><U+0082>Those who  are protesting #demonetization  are all different party leaders\"\n",
    "pattern = r\"<U\\+[A-Z0-9]*>\"\n",
    "re.sub(pattern, \"\", text)"
   ]
  },
  {
   "cell_type": "code",
   "execution_count": 84,
   "id": "5661affe",
   "metadata": {
    "scrolled": true
   },
   "outputs": [
    {
     "data": {
      "text/plain": [
       "['12-09-1992', '15-12-1999']"
      ]
     },
     "execution_count": 84,
     "metadata": {},
     "output_type": "execute_result"
    }
   ],
   "source": [
    "#Ans-29\n",
    "f = open(\"test1.txt\", \"a\")\n",
    "f.write(\"Ron was born on 12-09-1992 and he was admitted to school 15-12-1999.\")\n",
    "f.close()\n",
    "\n",
    "f = open(\"test1.txt\", \"r\")\n",
    "content = f.read()\n",
    "f.close()\n",
    "\n",
    "pattern29 = \"\\d{2}[/-]\\d{2}[/-]\\d{4}\"\n",
    "dates = re.findall(pattern29, content)\n",
    "\n",
    "dates"
   ]
  },
  {
   "cell_type": "code",
   "execution_count": 86,
   "id": "1e39125b",
   "metadata": {},
   "outputs": [
    {
     "data": {
      "text/plain": [
       "'Python:Exercises::PHP:exercises:'"
      ]
     },
     "execution_count": 86,
     "metadata": {},
     "output_type": "execute_result"
    }
   ],
   "source": [
    "#Ans-30\n",
    "text = 'Python Exercises, PHP exercises.'\n",
    "re.sub(\"[ ,.]\", \":\", text)"
   ]
  },
  {
   "cell_type": "code",
   "execution_count": null,
   "id": "efa4818f",
   "metadata": {},
   "outputs": [],
   "source": []
  }
 ],
 "metadata": {
  "kernelspec": {
   "display_name": "Python 3 (ipykernel)",
   "language": "python",
   "name": "python3"
  },
  "language_info": {
   "codemirror_mode": {
    "name": "ipython",
    "version": 3
   },
   "file_extension": ".py",
   "mimetype": "text/x-python",
   "name": "python",
   "nbconvert_exporter": "python",
   "pygments_lexer": "ipython3",
   "version": "3.10.9"
  }
 },
 "nbformat": 4,
 "nbformat_minor": 5
}
